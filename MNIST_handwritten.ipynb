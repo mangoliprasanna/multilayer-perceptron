{
 "cells": [
  {
   "cell_type": "code",
   "execution_count": 2,
   "metadata": {
    "collapsed": true
   },
   "outputs": [],
   "source": [
    "# importing modules.\n",
    "import torch\n",
    "import torch.nn.functional as F\n",
    "import numpy as np\n",
    "from torch import nn, optim\n",
    "from torchvision import transforms, datasets"
   ]
  },
  {
   "cell_type": "code",
   "execution_count": 3,
   "metadata": {
    "collapsed": true
   },
   "outputs": [],
   "source": [
    "# defining transforms for images.\n",
    "transform = transforms.Compose([transforms.ToTensor()])"
   ]
  },
  {
   "cell_type": "code",
   "execution_count": 4,
   "metadata": {},
   "outputs": [],
   "source": [
    "# Loading data from dataset\n",
    "\n",
    "# Training Data\n",
    "train_data = datasets.MNIST('data', train=True, download=True, transform=transform)\n",
    "\n",
    "#Testing Data\n",
    "test_data = datasets.MNIST('data', train=False, download=True, transform=transform)"
   ]
  },
  {
   "cell_type": "code",
   "execution_count": 5,
   "metadata": {},
   "outputs": [],
   "source": [
    "# Spliting train data index into train and validation\n",
    "num_train = len(train_data)\n",
    "idxs = list(range(num_train))\n",
    "np.random.shuffle(idxs)\n",
    "\n",
    "# using 20% of train data for validation.\n",
    "split = int(np.floor(0.2 * num_train))\n",
    "train_idx = idxs[split:]\n",
    "valid_idx = idxs[:split]"
   ]
  },
  {
   "cell_type": "code",
   "execution_count": 6,
   "metadata": {},
   "outputs": [],
   "source": [
    "# samplers to obtain indices for batches.\n",
    "train_sampler = torch.utils.data.SubsetRandomSampler(train_idx)\n",
    "valid_sampler = torch.utils.data.SubsetRandomSampler(valid_idx)"
   ]
  },
  {
   "cell_type": "code",
   "execution_count": 7,
   "metadata": {},
   "outputs": [],
   "source": [
    "# defining loader to load data in batches.\n",
    "# defining batch size\n",
    "batch_size = 20\n",
    "\n",
    "# Training loader\n",
    "train_loader = torch.utils.data.DataLoader(train_data, sampler=train_sampler, batch_size=batch_size)\n",
    "\n",
    "# Validation loader\n",
    "valid_loader = torch.utils.data.DataLoader(train_data, sampler=valid_sampler, batch_size=batch_size)\n",
    "\n",
    "# testing loader\n",
    "test_loader = torch.utils.data.DataLoader(test_data, batch_size=batch_size, shuffle=True)"
   ]
  },
  {
   "cell_type": "code",
   "execution_count": 8,
   "metadata": {
    "collapsed": true
   },
   "outputs": [],
   "source": [
    "# Now let's see the data we loaded visually.\n",
    "# import matplot library\n",
    "%matplotlib inline\n",
    "import matplotlib.pyplot as plt"
   ]
  },
  {
   "cell_type": "code",
   "execution_count": 9,
   "metadata": {},
   "outputs": [
    {
     "data": {
      "image/png": "[encoded data removed]",
      "text/plain": [
       "<matplotlib.figure.Figure at 0x21431db2eb8>"
      ]
     },
     "metadata": {},
     "output_type": "display_data"
    }
   ],
   "source": [
    "# taking one batch from train_loader \n",
    "images, labels = iter(train_loader).next()\n",
    "\n",
    "# converting images from tensor to numpy array just for visulization. \n",
    "images = images.numpy()\n",
    "\n",
    "# plot the images in the batch, along with the corresponding labels\n",
    "fig = plt.figure(figsize=(25, 4))\n",
    "for i in range(20):\n",
    "    ax = fig.add_subplot(2, 20/2, i + 1, xticks=[], yticks=[])\n",
    "    ax.set_title(labels[i].item())\n",
    "    ax.imshow(np.squeeze(images[i]), cmap='gray')"
   ]
  },
  {
   "cell_type": "markdown",
   "metadata": {},
   "source": [
    "## Defining network architecture.\n",
    "Each image is **28 X 28** means if we flatten the image it will be 784 px. Thus input layer will have **784 units**.The number of digits 0-9, **10** output for output layer.\n",
    "\n",
    "* Input Layer\n",
    "\n",
    "    * 784 input units, 128 output units.\n",
    "    \n",
    "\n",
    "* hidden Layer 1\n",
    "\n",
    "    * 128 input units, 64 output units.\n",
    "    \n",
    "    \n",
    "* hidden Layer 2\n",
    "\n",
    "    * 64 input units, 32 output units.\n",
    "    \n",
    "\n",
    "* output Layer\n",
    "    \n",
    "    * 32 input units, 10 output units.\n",
    "    \n",
    "Activation function : _Relu_\n",
    "\n",
    "Dropout with p=0.2\n",
    "    "
   ]
  },
  {
   "cell_type": "code",
   "execution_count": 10,
   "metadata": {
    "collapsed": true
   },
   "outputs": [],
   "source": [
    "# Defining network architecture.\n",
    "class Network(nn.Module):\n",
    "    \n",
    "    def __init__(self):\n",
    "        \n",
    "        super().__init__()\n",
    "        # Input layer: 784 => 128.\n",
    "        self.fc1 = nn.Linear(784, 128)\n",
    "        \n",
    "        # Hidden layer 1: 128 => 64.\n",
    "        self.fc2 = nn.Linear(128, 64)\n",
    "        \n",
    "        # Hidden Layer 2: 64 => 32.\n",
    "        self.fc3 = nn.Linear(64, 32)\n",
    "        \n",
    "        # Output layer 3: 32 => 10.\n",
    "        self.fc4 = nn.Linear(32, 10)\n",
    "        \n",
    "        # Defining dropout with p = 0.2\n",
    "        self.dropout = nn.Dropout(p=0.2)\n",
    "        \n",
    "    def forward(self, X):\n",
    "        \n",
    "        # Flatten inputs.\n",
    "        X = X.view(-1, 784)\n",
    "        \n",
    "        # Input Layer.\n",
    "        X = self.dropout(F.relu(self.fc1(X)))\n",
    "        \n",
    "        # Hidden Layer 1\n",
    "        X = self.dropout(F.relu(self.fc2(X)))\n",
    "        \n",
    "        # Hidden Layer 2\n",
    "        X = self.dropout(F.relu(self.fc3(X)))\n",
    "        \n",
    "        # Output Layer with log_sofmax function.\n",
    "        X = F.log_softmax(self.fc4(X), dim=1)\n",
    "        \n",
    "        return X\n",
    "        \n",
    "        "
   ]
  },
  {
   "cell_type": "code",
   "execution_count": 11,
   "metadata": {},
   "outputs": [
    {
     "data": {
      "text/plain": [
       "Network(\n",
       "  (fc1): Linear(in_features=784, out_features=128, bias=True)\n",
       "  (fc2): Linear(in_features=128, out_features=64, bias=True)\n",
       "  (fc3): Linear(in_features=64, out_features=32, bias=True)\n",
       "  (fc4): Linear(in_features=32, out_features=10, bias=True)\n",
       "  (dropout): Dropout(p=0.2)\n",
       ")"
      ]
     },
     "execution_count": 11,
     "metadata": {},
     "output_type": "execute_result"
    }
   ],
   "source": [
    "# Instance of Network\n",
    "model = Network()\n",
    "model"
   ]
  },
  {
   "cell_type": "code",
   "execution_count": 12,
   "metadata": {
    "collapsed": true
   },
   "outputs": [],
   "source": [
    "# Defining optimzer and loss function.\n",
    "# Loss function : NLLLoss\n",
    "criterion = nn.CrossEntropyLoss()\n",
    "\n",
    "# # optimzer Adam\n",
    "optimizer = optim.SGD(model.parameters(), lr=0.01)"
   ]
  },
  {
   "cell_type": "code",
   "execution_count": 13,
   "metadata": {},
   "outputs": [
    {
     "name": "stdout",
     "output_type": "stream",
     "text": [
      "Training loss: 1.369497035264969 \tValidation loss: 0.14129491144418715 \tEpoch: 1\n",
      "Saving model.\n",
      "Training loss: 0.5417618000159661 \tValidation loss: 0.07794534774497151 \tEpoch: 2\n",
      "Saving model.\n",
      "Training loss: 0.36400498628616335 \tValidation loss: 0.05742697741712133 \tEpoch: 3\n",
      "Saving model.\n",
      "Training loss: 0.28342704605311153 \tValidation loss: 0.046619206969315805 \tEpoch: 4\n",
      "Saving model.\n",
      "Training loss: 0.2392296978632609 \tValidation loss: 0.03977552443742752 \tEpoch: 5\n",
      "Saving model.\n",
      "Training loss: 0.2073348666615784 \tValidation loss: 0.03445289965253323 \tEpoch: 6\n",
      "Saving model.\n",
      "Training loss: 0.18494329973046358 \tValidation loss: 0.031536349616634346 \tEpoch: 7\n",
      "Saving model.\n",
      "Training loss: 0.1662462861094003 \tValidation loss: 0.029349636874782543 \tEpoch: 8\n",
      "Saving model.\n",
      "Training loss: 0.1565386937484145 \tValidation loss: 0.02756685497596239 \tEpoch: 9\n",
      "Saving model.\n",
      "Training loss: 0.14311629359874253 \tValidation loss: 0.02730406421861456 \tEpoch: 10\n",
      "Saving model.\n",
      "Training loss: 0.13130794445906455 \tValidation loss: 0.025473513257456944 \tEpoch: 11\n",
      "Saving model.\n",
      "Training loss: 0.12690214466955513 \tValidation loss: 0.023952057557335746 \tEpoch: 12\n",
      "Saving model.\n",
      "Training loss: 0.11952302708337083 \tValidation loss: 0.02313829907340308 \tEpoch: 13\n",
      "Saving model.\n",
      "Training loss: 0.11019323963105368 \tValidation loss: 0.022793121844918156 \tEpoch: 14\n",
      "Saving model.\n",
      "Training loss: 0.107264641559838 \tValidation loss: 0.02190645531002277 \tEpoch: 15\n",
      "Saving model.\n",
      "Training loss: 0.10181565178228387 \tValidation loss: 0.02261319622703983 \tEpoch: 16\n",
      "Training loss: 0.09775960800218551 \tValidation loss: 0.02052214630576782 \tEpoch: 17\n",
      "Saving model.\n",
      "Training loss: 0.09253567770472727 \tValidation loss: 0.021299485632916913 \tEpoch: 18\n",
      "Training loss: 0.08875508005404845 \tValidation loss: 0.02038110516735469 \tEpoch: 19\n",
      "Saving model.\n",
      "Training loss: 0.08296267791511491 \tValidation loss: 0.021567105606469947 \tEpoch: 20\n",
      "Training loss: 0.08175095841808555 \tValidation loss: 0.020084803577444594 \tEpoch: 21\n",
      "Saving model.\n",
      "Training loss: 0.0801377033094565 \tValidation loss: 0.019867055436373144 \tEpoch: 22\n",
      "Saving model.\n",
      "Training loss: 0.07570928156907515 \tValidation loss: 0.019832312559340304 \tEpoch: 23\n",
      "Saving model.\n",
      "Training loss: 0.07240200135515382 \tValidation loss: 0.01942748046538327 \tEpoch: 24\n",
      "Saving model.\n",
      "Training loss: 0.06784655108760732 \tValidation loss: 0.01968484226305736 \tEpoch: 25\n",
      "Training loss: 0.06912971041270066 \tValidation loss: 0.018629930626639785 \tEpoch: 26\n",
      "Saving model.\n",
      "Training loss: 0.06566201903962064 \tValidation loss: 0.019393354850520458 \tEpoch: 27\n",
      "Training loss: 0.06476414106673717 \tValidation loss: 0.01926169970318248 \tEpoch: 28\n",
      "Training loss: 0.06305786001936454 \tValidation loss: 0.020121928658384906 \tEpoch: 29\n",
      "Training loss: 0.060737850471632555 \tValidation loss: 0.01869100765811163 \tEpoch: 30\n",
      "Training loss: 0.058593798364541726 \tValidation loss: 0.018351070586257266 \tEpoch: 31\n",
      "Saving model.\n",
      "Training loss: 0.056827609980032626 \tValidation loss: 0.01872346155908114 \tEpoch: 32\n",
      "Training loss: 0.056314842630701606 \tValidation loss: 0.018476633653515213 \tEpoch: 33\n",
      "Training loss: 0.05436215715328581 \tValidation loss: 0.01826780755654181 \tEpoch: 34\n",
      "Saving model.\n",
      "Training loss: 0.04888338905776618 \tValidation loss: 0.0191611218848678 \tEpoch: 35\n",
      "Training loss: 0.0525070157921485 \tValidation loss: 0.0192612851242399 \tEpoch: 36\n",
      "Training loss: 0.049951523736851716 \tValidation loss: 0.018786045315930096 \tEpoch: 37\n",
      "Training loss: 0.05154049391951897 \tValidation loss: 0.018130421074788804 \tEpoch: 38\n",
      "Saving model.\n",
      "Training loss: 0.04755374378044507 \tValidation loss: 0.018397280595117384 \tEpoch: 39\n",
      "Training loss: 0.0491315103348461 \tValidation loss: 0.018479069018724356 \tEpoch: 40\n",
      "Training loss: 0.04730031781539826 \tValidation loss: 0.019232102293914068 \tEpoch: 41\n",
      "Training loss: 0.044173629562409285 \tValidation loss: 0.018359786550060864 \tEpoch: 42\n",
      "Training loss: 0.04537286088730131 \tValidation loss: 0.018575434180187585 \tEpoch: 43\n",
      "Training loss: 0.044338249238508674 \tValidation loss: 0.019220235984202493 \tEpoch: 44\n",
      "Training loss: 0.04431920707184084 \tValidation loss: 0.01947400276793936 \tEpoch: 45\n",
      "Training loss: 0.03976671357483186 \tValidation loss: 0.01929118730612754 \tEpoch: 46\n",
      "Training loss: 0.041235314045926015 \tValidation loss: 0.02046885330118918 \tEpoch: 47\n",
      "Training loss: 0.040655924193769656 \tValidation loss: 0.01907394718713719 \tEpoch: 48\n",
      "Training loss: 0.04061990146900644 \tValidation loss: 0.018957117987191546 \tEpoch: 49\n",
      "Training loss: 0.037738507992015606 \tValidation loss: 0.019571122264089354 \tEpoch: 50\n"
     ]
    }
   ],
   "source": [
    "# training model\n",
    "\n",
    "# Epochs for training.\n",
    "epochs = 50\n",
    "\n",
    "# defining min_valid loss to np.inf\n",
    "valid_min = np.inf\n",
    "\n",
    "for i in range(epochs):\n",
    "    \n",
    "    # set model for training.\n",
    "    model.train()\n",
    "    \n",
    "    # defining train loss and validation loss to 0.0 later we calculate using loss function.\n",
    "    train_loss = 0.0\n",
    "    valid_loss = 0.0\n",
    "    \n",
    "    for images, labels in train_loader:\n",
    "        \n",
    "        # cleaning gradient for all optimized variables.\n",
    "        optimizer.zero_grad()\n",
    "        \n",
    "        # forwardpass passing images to model\n",
    "        output = model(images)\n",
    "        \n",
    "        # Calculating loss to perform backward pass\n",
    "        loss = criterion(output, labels)\n",
    "        \n",
    "        # backward pass compute loss with resp to parameters.\n",
    "        loss.backward()\n",
    "        \n",
    "        # optimizer single step.\n",
    "        optimizer.step()\n",
    "        \n",
    "        # updating total loss\n",
    "        train_loss += loss.item() * images.size(0)\n",
    "        \n",
    "    # set model for evalutaion.\n",
    "    model.eval()\n",
    "    \n",
    "    # validating model.\n",
    "    for images, labels in valid_loader:\n",
    "        \n",
    "         # forwardpass passing images to model\n",
    "        output = model(images)\n",
    "        \n",
    "        # Calculating loss to perform backward pass\n",
    "        loss = criterion(output, labels)\n",
    "        \n",
    "        # Updating total validation loss.\n",
    "        valid_loss += loss.item() * images.size(0)\n",
    "        \n",
    "    train_loss = train_loss / len(train_loader.dataset)\n",
    "    valid_loss = valid_loss / len(valid_loader.dataset)\n",
    "    \n",
    "    print(\"Training loss:\", train_loss, \"\\tValidation loss:\", valid_loss, \"\\tEpoch:\", str(i+1))\n",
    "    \n",
    "    if valid_loss <= valid_min:\n",
    "        print(\"Saving model.\")\n",
    "        torch.save(model.state_dict(), 'model_handwritten.pth')\n",
    "        valid_min = valid_loss"
   ]
  },
  {
   "cell_type": "code",
   "execution_count": 14,
   "metadata": {},
   "outputs": [
    {
     "name": "stdout",
     "output_type": "stream",
     "text": [
      "Test Loss: 0.092023\n",
      "\n",
      "Test Accuracy of     0: 98% (969/980)\n",
      "Test Accuracy of     1: 98% (1122/1135)\n",
      "Test Accuracy of     2: 97% (1011/1032)\n",
      "Test Accuracy of     3: 98% (993/1010)\n",
      "Test Accuracy of     4: 97% (956/982)\n",
      "Test Accuracy of     5: 97% (869/892)\n",
      "Test Accuracy of     6: 98% (939/958)\n",
      "Test Accuracy of     7: 97% (1002/1028)\n",
      "Test Accuracy of     8: 97% (947/974)\n",
      "Test Accuracy of     9: 96% (975/1009)\n",
      "\n",
      "Test Accuracy (Overall): 97% (9783/10000)\n"
     ]
    }
   ],
   "source": [
    "# Testing Model.\n",
    "# Initilizing list to moniter test and accuracy.\n",
    "test_loss = 0.0\n",
    "class_correct = list(0. for i in range(10))\n",
    "class_total = list(0. for i in range(10))\n",
    "\n",
    "# prepate mode for evalution.\n",
    "model.eval()\n",
    "\n",
    "for images, labels in test_loader:\n",
    "    \n",
    "    # forwardpass passing images to model\n",
    "    output = model(images)\n",
    "    \n",
    "    # calculate the loss\n",
    "    loss = criterion(output, labels)\n",
    "    \n",
    "    # update test loss \n",
    "    test_loss += loss.item() * images.size(0)\n",
    "    \n",
    "    # convert output probabilities to predicted class\n",
    "    _, pred = torch.max(output, 1)\n",
    "    \n",
    "    # compare predictions to true label\n",
    "    correct = np.squeeze(pred.eq(labels.data.view_as(pred)))\n",
    "    \n",
    "     # calculate test accuracy for each object class\n",
    "    for i in range(batch_size):\n",
    "        \n",
    "        label = labels.data[i]\n",
    "        \n",
    "        class_correct[label] += correct[i].item()\n",
    "        \n",
    "        class_total[label] += 1\n",
    "        \n",
    "# calculate and print avg test loss\n",
    "test_loss = test_loss/len(test_loader.dataset)\n",
    "print('Test Loss: {:.6f}\\n'.format(test_loss))\n",
    "\n",
    "for i in range(10):\n",
    "    if class_total[i] > 0:\n",
    "        print('Test Accuracy of %5s: %2d%% (%2d/%2d)' % (\n",
    "            str(i), 100 * class_correct[i] / class_total[i],\n",
    "            np.sum(class_correct[i]), np.sum(class_total[i])))\n",
    "    else:\n",
    "        print('Test Accuracy of %5s: N/A (no training examples)' % (classes[i]))\n",
    "\n",
    "print('\\nTest Accuracy (Overall): %2d%% (%2d/%2d)' % (\n",
    "    100. * np.sum(class_correct) / np.sum(class_total),\n",
    "    np.sum(class_correct), np.sum(class_total)))"
   ]
  },
  {
   "cell_type": "code",
   "execution_count": 15,
   "metadata": {
    "collapsed": true
   },
   "outputs": [],
   "source": [
    "# Visualize data with test result.\n",
    "# obtain one batch of test images\n",
    "dataiter = iter(test_loader)"
   ]
  },
  {
   "cell_type": "code",
   "execution_count": 17,
   "metadata": {},
   "outputs": [
    {
     "data": {
      "image/png": "[encoded data removed]",
      "text/plain": [
       "<matplotlib.figure.Figure at 0x2143ba19cf8>"
      ]
     },
     "metadata": {},
     "output_type": "display_data"
    }
   ],
   "source": [
    "\n",
    "images, labels = dataiter.next()\n",
    "\n",
    "# get sample outputs\n",
    "output = model(images)\n",
    "\n",
    "# convert output probabilities to predicted class\n",
    "_, preds = torch.max(output, 1)\n",
    "\n",
    "# prep images for display\n",
    "images = images.numpy()\n",
    "\n",
    "# plot the images in the batch, along with predicted and true labels\n",
    "fig = plt.figure(figsize=(25, 4))\n",
    "\n",
    "for idx in np.arange(20):\n",
    "    \n",
    "    ax = fig.add_subplot(2, 20/2, idx+1, xticks=[], yticks=[])\n",
    "    \n",
    "    ax.imshow(np.squeeze(images[idx]), cmap='gray')\n",
    "    \n",
    "    ax.set_title(\"{} ({})\".format(str(preds[idx].item()), str(labels[idx].item())),\n",
    "                 color=(\"green\" if preds[idx]==labels[idx] else \"red\"))"
   ]
  },
  {
   "cell_type": "code",
   "execution_count": null,
   "metadata": {
    "collapsed": true
   },
   "outputs": [],
   "source": []
  }
 ],
 "metadata": {
  "kernelspec": {
   "display_name": "Python 3",
   "language": "python",
   "name": "python3"
  },
  "language_info": {
   "codemirror_mode": {
    "name": "ipython",
    "version": 3
   },
   "file_extension": ".py",
   "mimetype": "text/x-python",
   "name": "python",
   "nbconvert_exporter": "python",
   "pygments_lexer": "ipython3",
   "version": "3.6.1"
  }
 },
 "nbformat": 4,
 "nbformat_minor": 2
}
